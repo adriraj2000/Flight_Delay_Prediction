{
 "cells": [
  {
   "cell_type": "code",
   "execution_count": 1,
   "metadata": {},
   "outputs": [
    {
     "data": {
      "text/html": [
       "<div>\n",
       "<style scoped>\n",
       "    .dataframe tbody tr th:only-of-type {\n",
       "        vertical-align: middle;\n",
       "    }\n",
       "\n",
       "    .dataframe tbody tr th {\n",
       "        vertical-align: top;\n",
       "    }\n",
       "\n",
       "    .dataframe thead th {\n",
       "        text-align: right;\n",
       "    }\n",
       "</style>\n",
       "<table border=\"1\" class=\"dataframe\">\n",
       "  <thead>\n",
       "    <tr style=\"text-align: right;\">\n",
       "      <th></th>\n",
       "      <th>D_Airport Rating</th>\n",
       "      <th>D_Airport On Time Rating</th>\n",
       "      <th>D_Airport Service Rating</th>\n",
       "      <th>A_Airport Rating</th>\n",
       "      <th>A_Airport On Time Rating</th>\n",
       "      <th>A_Airport Service Rating</th>\n",
       "      <th>D_Delay</th>\n",
       "      <th>Duration</th>\n",
       "      <th>A_Delay</th>\n",
       "      <th>C_Rating</th>\n",
       "      <th>...</th>\n",
       "      <th>BLR-DEL</th>\n",
       "      <th>BOM-DEL</th>\n",
       "      <th>CCU-DEL</th>\n",
       "      <th>DEL-HYD</th>\n",
       "      <th>Air Asia</th>\n",
       "      <th>Air India</th>\n",
       "      <th>Go Air</th>\n",
       "      <th>Indigo</th>\n",
       "      <th>Spicejet</th>\n",
       "      <th>Vistara</th>\n",
       "    </tr>\n",
       "  </thead>\n",
       "  <tbody>\n",
       "    <tr>\n",
       "      <th>0</th>\n",
       "      <td>7.5</td>\n",
       "      <td>8.6</td>\n",
       "      <td>9.2</td>\n",
       "      <td>7.29</td>\n",
       "      <td>6.2</td>\n",
       "      <td>9.0</td>\n",
       "      <td>8.0</td>\n",
       "      <td>79.0</td>\n",
       "      <td>-16.0</td>\n",
       "      <td>7.4</td>\n",
       "      <td>...</td>\n",
       "      <td>0.0</td>\n",
       "      <td>0.0</td>\n",
       "      <td>0.0</td>\n",
       "      <td>0.0</td>\n",
       "      <td>1.0</td>\n",
       "      <td>0.0</td>\n",
       "      <td>0.0</td>\n",
       "      <td>0.0</td>\n",
       "      <td>0.0</td>\n",
       "      <td>0.0</td>\n",
       "    </tr>\n",
       "    <tr>\n",
       "      <th>1</th>\n",
       "      <td>7.5</td>\n",
       "      <td>8.6</td>\n",
       "      <td>9.2</td>\n",
       "      <td>7.29</td>\n",
       "      <td>6.2</td>\n",
       "      <td>9.0</td>\n",
       "      <td>3.0</td>\n",
       "      <td>81.0</td>\n",
       "      <td>-20.0</td>\n",
       "      <td>7.4</td>\n",
       "      <td>...</td>\n",
       "      <td>0.0</td>\n",
       "      <td>0.0</td>\n",
       "      <td>0.0</td>\n",
       "      <td>0.0</td>\n",
       "      <td>1.0</td>\n",
       "      <td>0.0</td>\n",
       "      <td>0.0</td>\n",
       "      <td>0.0</td>\n",
       "      <td>0.0</td>\n",
       "      <td>0.0</td>\n",
       "    </tr>\n",
       "    <tr>\n",
       "      <th>2</th>\n",
       "      <td>7.5</td>\n",
       "      <td>8.6</td>\n",
       "      <td>9.2</td>\n",
       "      <td>7.29</td>\n",
       "      <td>6.2</td>\n",
       "      <td>9.0</td>\n",
       "      <td>2.0</td>\n",
       "      <td>90.0</td>\n",
       "      <td>-12.0</td>\n",
       "      <td>7.4</td>\n",
       "      <td>...</td>\n",
       "      <td>0.0</td>\n",
       "      <td>0.0</td>\n",
       "      <td>0.0</td>\n",
       "      <td>0.0</td>\n",
       "      <td>1.0</td>\n",
       "      <td>0.0</td>\n",
       "      <td>0.0</td>\n",
       "      <td>0.0</td>\n",
       "      <td>0.0</td>\n",
       "      <td>0.0</td>\n",
       "    </tr>\n",
       "    <tr>\n",
       "      <th>3</th>\n",
       "      <td>7.5</td>\n",
       "      <td>8.6</td>\n",
       "      <td>9.2</td>\n",
       "      <td>7.29</td>\n",
       "      <td>6.2</td>\n",
       "      <td>9.0</td>\n",
       "      <td>3.0</td>\n",
       "      <td>77.0</td>\n",
       "      <td>-23.0</td>\n",
       "      <td>7.4</td>\n",
       "      <td>...</td>\n",
       "      <td>0.0</td>\n",
       "      <td>0.0</td>\n",
       "      <td>0.0</td>\n",
       "      <td>0.0</td>\n",
       "      <td>1.0</td>\n",
       "      <td>0.0</td>\n",
       "      <td>0.0</td>\n",
       "      <td>0.0</td>\n",
       "      <td>0.0</td>\n",
       "      <td>0.0</td>\n",
       "    </tr>\n",
       "    <tr>\n",
       "      <th>4</th>\n",
       "      <td>7.5</td>\n",
       "      <td>8.6</td>\n",
       "      <td>9.2</td>\n",
       "      <td>7.29</td>\n",
       "      <td>6.2</td>\n",
       "      <td>9.0</td>\n",
       "      <td>15.0</td>\n",
       "      <td>78.0</td>\n",
       "      <td>-11.0</td>\n",
       "      <td>7.4</td>\n",
       "      <td>...</td>\n",
       "      <td>0.0</td>\n",
       "      <td>0.0</td>\n",
       "      <td>0.0</td>\n",
       "      <td>0.0</td>\n",
       "      <td>1.0</td>\n",
       "      <td>0.0</td>\n",
       "      <td>0.0</td>\n",
       "      <td>0.0</td>\n",
       "      <td>0.0</td>\n",
       "      <td>0.0</td>\n",
       "    </tr>\n",
       "  </tbody>\n",
       "</table>\n",
       "<p>5 rows × 46 columns</p>\n",
       "</div>"
      ],
      "text/plain": [
       "   D_Airport Rating  D_Airport On Time Rating  D_Airport Service Rating  \\\n",
       "0               7.5                       8.6                       9.2   \n",
       "1               7.5                       8.6                       9.2   \n",
       "2               7.5                       8.6                       9.2   \n",
       "3               7.5                       8.6                       9.2   \n",
       "4               7.5                       8.6                       9.2   \n",
       "\n",
       "   A_Airport Rating  A_Airport On Time Rating  A_Airport Service Rating  \\\n",
       "0              7.29                       6.2                       9.0   \n",
       "1              7.29                       6.2                       9.0   \n",
       "2              7.29                       6.2                       9.0   \n",
       "3              7.29                       6.2                       9.0   \n",
       "4              7.29                       6.2                       9.0   \n",
       "\n",
       "   D_Delay  Duration  A_Delay  C_Rating  ...  BLR-DEL  BOM-DEL  CCU-DEL  \\\n",
       "0      8.0      79.0    -16.0       7.4  ...      0.0      0.0      0.0   \n",
       "1      3.0      81.0    -20.0       7.4  ...      0.0      0.0      0.0   \n",
       "2      2.0      90.0    -12.0       7.4  ...      0.0      0.0      0.0   \n",
       "3      3.0      77.0    -23.0       7.4  ...      0.0      0.0      0.0   \n",
       "4     15.0      78.0    -11.0       7.4  ...      0.0      0.0      0.0   \n",
       "\n",
       "   DEL-HYD  Air Asia  Air India  Go Air  Indigo  Spicejet  Vistara  \n",
       "0      0.0       1.0        0.0     0.0     0.0       0.0      0.0  \n",
       "1      0.0       1.0        0.0     0.0     0.0       0.0      0.0  \n",
       "2      0.0       1.0        0.0     0.0     0.0       0.0      0.0  \n",
       "3      0.0       1.0        0.0     0.0     0.0       0.0      0.0  \n",
       "4      0.0       1.0        0.0     0.0     0.0       0.0      0.0  \n",
       "\n",
       "[5 rows x 46 columns]"
      ]
     },
     "execution_count": 1,
     "metadata": {},
     "output_type": "execute_result"
    }
   ],
   "source": [
    "import pandas as pd\n",
    "import numpy as np\n",
    "from matplotlib import pyplot as plt\n",
    "%matplotlib inline\n",
    "import seaborn as sns\n",
    "df=pd.read_csv('finald - finald.csv')\n",
    "df.head()"
   ]
  },
  {
   "cell_type": "code",
   "execution_count": 2,
   "metadata": {},
   "outputs": [
    {
     "data": {
      "text/plain": [
       "Index(['D_Airport Rating', 'D_Airport On Time Rating',\n",
       "       'D_Airport Service Rating', 'A_Airport Rating',\n",
       "       'A_Airport On Time Rating', 'A_Airport Service Rating', 'D_Delay',\n",
       "       'Duration', 'A_Delay', 'C_Rating', 'C_Market Share', 'C_Load Factor',\n",
       "       'C_On Time Performance Rating', 'D_DewPointC', 'D_WindGustKmph',\n",
       "       'D_cloudcover', 'D_humidity', 'D_precipMM', 'D_pressure', 'D_tempC',\n",
       "       'D_visibility', 'D_winddirDegree', 'D_windspeedKmph', 'D_Time',\n",
       "       'A_DewPointC', 'A_WindGustKmph', 'A_cloudcover', 'A_humidity',\n",
       "       'A_precipMM', 'A_pressure', 'A_tempC', 'A_visibility',\n",
       "       'A_winddirDegree', 'A_windspeedKmph', 'A_Time', 'BLR-BOM', 'BLR-DEL',\n",
       "       'BOM-DEL', 'CCU-DEL', 'DEL-HYD', 'Air Asia', 'Air India', 'Go Air',\n",
       "       'Indigo', 'Spicejet', 'Vistara'],\n",
       "      dtype='object')"
      ]
     },
     "execution_count": 2,
     "metadata": {},
     "output_type": "execute_result"
    }
   ],
   "source": [
    "#plt.scatter(df['A_Delay'],df['Duration'])\n",
    "#plt.show()\n",
    "df.columns\n",
    "\n"
   ]
  },
  {
   "cell_type": "code",
   "execution_count": 3,
   "metadata": {},
   "outputs": [
    {
     "data": {
      "text/plain": [
       "\"plt.scatter(df['D_Airport On Time Rating'],df['A_Delay'])\\nplt.scatter(df['D_Airport Service Rating'],df['A_Delay'])\\nplt.scatter(df['A_Airport Rating'],df['A_Delay'])\\nplt.scatter(df['A_Airport On Time Rating'],df['A_Delay'])\\nplt.scatter(df['A_Airport Service Rating'],df['A_Delay'])\\nplt.scatter(df['C_Rating'],df['A_Delay'])\\nplt.scatter(df['C_On Time Performance Rating'],df['A_Delay'])\""
      ]
     },
     "execution_count": 3,
     "metadata": {},
     "output_type": "execute_result"
    },
    {
     "data": {
      "image/png": "[encoded data removed]",
      "text/plain": [
       "<Figure size 432x288 with 1 Axes>"
      ]
     },
     "metadata": {
      "needs_background": "light"
     },
     "output_type": "display_data"
    }
   ],
   "source": [
    "plt.scatter(df['D_Airport Rating'],df['A_Delay'])\n",
    "'''plt.scatter(df['D_Airport On Time Rating'],df['A_Delay'])\n",
    "plt.scatter(df['D_Airport Service Rating'],df['A_Delay'])\n",
    "plt.scatter(df['A_Airport Rating'],df['A_Delay'])\n",
    "plt.scatter(df['A_Airport On Time Rating'],df['A_Delay'])\n",
    "plt.scatter(df['A_Airport Service Rating'],df['A_Delay'])\n",
    "plt.scatter(df['C_Rating'],df['A_Delay'])\n",
    "plt.scatter(df['C_On Time Performance Rating'],df['A_Delay'])'''\n",
    "#All of these showing scatterplot similar to below more or less"
   ]
  },
  {
   "cell_type": "code",
   "execution_count": 3,
   "metadata": {},
   "outputs": [
    {
     "data": {
      "image/png": "[encoded data removed]",
      "text/plain": [
       "<Figure size 432x288 with 1 Axes>"
      ]
     },
     "metadata": {
      "needs_background": "light"
     },
     "output_type": "display_data"
    }
   ],
   "source": [
    "plt.scatter(df['D_Delay'],df['A_Delay'])\n",
    "plt.show()\n",
    "df.drop('D_Delay',axis=1,inplace=True)\n",
    "#Showing nearly linear relation so can be a source of data leakage.Hence must be dropped"
   ]
  },
  {
   "cell_type": "code",
   "execution_count": 5,
   "metadata": {},
   "outputs": [
    {
     "data": {
      "image/png": "[encoded data removed]",
      "text/plain": [
       "<Figure size 432x288 with 1 Axes>"
      ]
     },
     "metadata": {
      "needs_background": "light"
     },
     "output_type": "display_data"
    }
   ],
   "source": [
    "plt.scatter(df['Duration'],df['A_Delay'])\n",
    "plt.show()"
   ]
  },
  {
   "cell_type": "code",
   "execution_count": 263,
   "metadata": {},
   "outputs": [
    {
     "data": {
      "text/plain": [
       "<matplotlib.collections.PathCollection at 0x7f1e73f9feb8>"
      ]
     },
     "execution_count": 263,
     "metadata": {},
     "output_type": "execute_result"
    },
    {
     "data": {
      "image/png": "[encoded data removed]",
      "text/plain": [
       "<Figure size 432x288 with 1 Axes>"
      ]
     },
     "metadata": {
      "needs_background": "light"
     },
     "output_type": "display_data"
    }
   ],
   "source": [
    "#We can see A_Delay lies mostly between -500 and 500\n",
    "#Duration mostly less than 300,Thus we need to remove outlier\n",
    "#Also we see how arrival conditions affect A_Delay by seeing plotting scatter plots\n",
    "#If we see plots excluding the outliers then most of them follow normal distribution except pressure.precipMM,A_Time.\n",
    "plt.scatter(df['Duration'],df['D_Delay'])\n",
    "\n",
    "\n",
    "\n"
   ]
  },
  {
   "cell_type": "code",
   "execution_count": null,
   "metadata": {},
   "outputs": [],
   "source": []
  },
  {
   "cell_type": "code",
   "execution_count": 4,
   "metadata": {},
   "outputs": [],
   "source": [
    "df.drop(df[df['Duration'] > 300].index, inplace = True)\n",
    "df.drop(df[df['A_Delay'] > 500].index, inplace = True)\n",
    "df.drop(df[df['A_Delay'] < -500].index, inplace = True)\n",
    "\n",
    "\n"
   ]
  },
  {
   "cell_type": "code",
   "execution_count": 5,
   "metadata": {},
   "outputs": [
    {
     "name": "stdout",
     "output_type": "stream",
     "text": [
      "17.368999421631\n",
      "13.839027630180658\n",
      "15.484754376058724\n",
      "13.159139026111504\n",
      "20.888598781549174\n",
      "12.156925540432345\n"
     ]
    }
   ],
   "source": [
    "#df['Spicejet'].value_counts()-1729\n",
    "#df['Air Asia'].value_counts()-1882\n",
    "#df['Air India'].value_counts()-3542\n",
    "#df['Vistara'].value_counts()-2834\n",
    "#df['Indigo'].value_counts()-2298\n",
    "#df['Go Air'].value_counts()-2498\n",
    "print(abs(df[df['Spicejet']==1]['A_Delay']).sum()/1729)\n",
    "print(abs(df[df['Air Asia']==1]['A_Delay']).sum()/1882)\n",
    "print(abs(df[df['Air India']==1]['A_Delay']).sum()/3542)\n",
    "print(abs(df[df['Vistara']==1]['A_Delay']).sum()/2834)\n",
    "print(abs(df[df['Indigo']==1]['A_Delay']).sum()/2298)\n",
    "print(abs(df[df['Go Air']==1]['A_Delay']).sum()/2498)"
   ]
  },
  {
   "cell_type": "code",
   "execution_count": 6,
   "metadata": {},
   "outputs": [
    {
     "data": {
      "text/plain": [
       "(array([1.000e+00, 1.483e+03, 1.230e+04, 7.730e+02, 1.260e+02, 4.100e+01,\n",
       "        2.200e+01, 1.900e+01, 1.200e+01, 6.000e+00]),\n",
       " array([-118. ,  -70.7,  -23.4,   23.9,   71.2,  118.5,  165.8,  213.1,\n",
       "         260.4,  307.7,  355. ]),\n",
       " <a list of 10 Patch objects>)"
      ]
     },
     "execution_count": 6,
     "metadata": {},
     "output_type": "execute_result"
    },
    {
     "data": {
      "image/png": "[encoded data removed]",
      "text/plain": [
       "<Figure size 432x288 with 1 Axes>"
      ]
     },
     "metadata": {
      "needs_background": "light"
     },
     "output_type": "display_data"
    }
   ],
   "source": [
    "plt.hist(df['A_Delay'])\n",
    "#Right Skewed"
   ]
  },
  {
   "cell_type": "code",
   "execution_count": 7,
   "metadata": {},
   "outputs": [],
   "source": [
    "y=df['A_Delay']\n",
    "df.drop('A_Delay',axis=1,inplace=True)\n"
   ]
  },
  {
   "cell_type": "code",
   "execution_count": 8,
   "metadata": {},
   "outputs": [],
   "source": [
    "from sklearn.preprocessing import PowerTransformer\n",
    "from sklearn.model_selection import train_test_split\n",
    "from sklearn.linear_model import LinearRegression\n",
    "from sklearn.preprocessing import PolynomialFeatures\n",
    "pt=PowerTransformer(method='yeo-johnson')\n",
    "X_train,X_test,y_train,y_test=train_test_split(df,y,test_size=0.3,random_state=10)\n",
    "pt.fit(y_train.to_numpy().reshape(-1,1))\n",
    "y_train=pt.transform(y_train.to_numpy().reshape(-1,1))\n",
    "y_test=pt.transform(y_test.to_numpy().reshape(-1,1))\n",
    "\n",
    "poly = PolynomialFeatures(degree = 2, include_bias = True, interaction_only = True)\n",
    "df_poly = poly.fit_transform(df)\n",
    "Xp_train, Xp_test, yp_train, yp_test = train_test_split(df_poly,y, test_size=0.30, random_state=10)\n",
    "\n",
    "\n",
    "\n"
   ]
  },
  {
   "cell_type": "code",
   "execution_count": 9,
   "metadata": {},
   "outputs": [
    {
     "name": "stderr",
     "output_type": "stream",
     "text": [
      "/home/riju/anaconda3/lib/python3.7/site-packages/sklearn/ensemble/forest.py:246: FutureWarning: The default value of n_estimators will change from 10 in version 0.20 to 100 in 0.22.\n",
      "  \"10 in version 0.20 to 100 in 0.22.\", FutureWarning)\n",
      "/home/riju/anaconda3/lib/python3.7/site-packages/ipykernel_launcher.py:4: DataConversionWarning: A column-vector y was passed when a 1d array was expected. Please change the shape of y to (n_samples,), for example using ravel().\n",
      "  after removing the cwd from sys.path.\n"
     ]
    },
    {
     "name": "stdout",
     "output_type": "stream",
     "text": [
      "0.05285353249072635\n",
      "0.2629053418782688\n"
     ]
    }
   ],
   "source": [
    "from sklearn.ensemble import RandomForestRegressor\n",
    "from sklearn.metrics import mean_squared_error\n",
    "rf=RandomForestRegressor()\n",
    "rf.fit(Xp_train,y_train)\n",
    "print(mean_squared_error(rf.predict(Xp_train),y_train))\n",
    "print(mean_squared_error(rf.predict(Xp_test),y_test))\n",
    "\n"
   ]
  },
  {
   "cell_type": "code",
   "execution_count": 10,
   "metadata": {},
   "outputs": [
    {
     "name": "stderr",
     "output_type": "stream",
     "text": [
      "/home/riju/anaconda3/lib/python3.7/site-packages/sklearn/utils/validation.py:761: DataConversionWarning: A column-vector y was passed when a 1d array was expected. Please change the shape of y to (n_samples, ), for example using ravel().\n",
      "  y = column_or_1d(y, warn=True)\n",
      "/home/riju/anaconda3/lib/python3.7/site-packages/ipykernel_launcher.py:8: DataConversionWarning: A column-vector y was passed when a 1d array was expected. Please change the shape of y to (n_samples,), for example using ravel().\n",
      "  \n"
     ]
    },
    {
     "name": "stdout",
     "output_type": "stream",
     "text": [
      "0.12151508649028439\n",
      "0.2462802939855282\n"
     ]
    }
   ],
   "source": [
    "#Now selecting best features ie 60 best using SelectKBest\n",
    "from sklearn.feature_selection import SelectKBest,mutual_info_regression\n",
    "skb=SelectKBest(mutual_info_regression,k=60)\n",
    "skb.fit(Xp_train,y_train)\n",
    "Xp60_train = skb.transform(Xp_train)\n",
    "Xp60_test = skb.transform(Xp_test)\n",
    "rf=RandomForestRegressor(min_samples_split=17,n_estimators=100,n_jobs=-1,random_state=10)\n",
    "rf.fit(Xp60_train,y_train)\n",
    "print(mean_squared_error(rf.predict(Xp60_train),y_train))\n",
    "print(mean_squared_error(rf.predict(Xp60_test),y_test))\n",
    "\n",
    "\n"
   ]
  },
  {
   "cell_type": "code",
   "execution_count": 11,
   "metadata": {},
   "outputs": [
    {
     "data": {
      "text/plain": [
       "<matplotlib.collections.PathCollection at 0x7f586fd1cb00>"
      ]
     },
     "execution_count": 11,
     "metadata": {},
     "output_type": "execute_result"
    },
    {
     "data": {
      "image/png": "[encoded data removed]",
      "text/plain": [
       "<Figure size 936x936 with 1 Axes>"
      ]
     },
     "metadata": {
      "needs_background": "light"
     },
     "output_type": "display_data"
    }
   ],
   "source": [
    "f1=pt.inverse_transform(rf.predict(Xp60_test).reshape(-1,1))\n",
    "f2=pt.inverse_transform(y_test.reshape(-1,1))\n",
    "plt.figure(figsize=(13,13))\n",
    "plt.plot(np.arange(-40,120),np.arange(-40,120),'orange')\n",
    "plt.scatter(f1,f2,marker='.')"
   ]
  },
  {
   "cell_type": "code",
   "execution_count": 12,
   "metadata": {},
   "outputs": [],
   "source": [
    "import pickle\n",
    "pickle.dump(rf,open('model.pkl','wb'))"
   ]
  },
  {
   "cell_type": "code",
   "execution_count": null,
   "metadata": {},
   "outputs": [],
   "source": []
  },
  {
   "cell_type": "code",
   "execution_count": null,
   "metadata": {},
   "outputs": [],
   "source": []
  },
  {
   "cell_type": "code",
   "execution_count": null,
   "metadata": {},
   "outputs": [],
   "source": []
  },
  {
   "cell_type": "code",
   "execution_count": null,
   "metadata": {},
   "outputs": [],
   "source": []
  },
  {
   "cell_type": "code",
   "execution_count": null,
   "metadata": {},
   "outputs": [],
   "source": []
  },
  {
   "cell_type": "code",
   "execution_count": null,
   "metadata": {},
   "outputs": [],
   "source": []
  },
  {
   "cell_type": "code",
   "execution_count": null,
   "metadata": {},
   "outputs": [],
   "source": []
  },
  {
   "cell_type": "code",
   "execution_count": null,
   "metadata": {},
   "outputs": [],
   "source": []
  },
  {
   "cell_type": "code",
   "execution_count": null,
   "metadata": {},
   "outputs": [],
   "source": []
  },
  {
   "cell_type": "code",
   "execution_count": null,
   "metadata": {},
   "outputs": [],
   "source": []
  },
  {
   "cell_type": "code",
   "execution_count": null,
   "metadata": {},
   "outputs": [],
   "source": [
    "\n"
   ]
  },
  {
   "cell_type": "code",
   "execution_count": 17,
   "metadata": {},
   "outputs": [],
   "source": [
    "\n",
    "\n",
    "\n"
   ]
  },
  {
   "cell_type": "code",
   "execution_count": null,
   "metadata": {},
   "outputs": [],
   "source": []
  },
  {
   "cell_type": "code",
   "execution_count": null,
   "metadata": {},
   "outputs": [],
   "source": []
  },
  {
   "cell_type": "code",
   "execution_count": null,
   "metadata": {
    "scrolled": true
   },
   "outputs": [],
   "source": []
  },
  {
   "cell_type": "code",
   "execution_count": null,
   "metadata": {},
   "outputs": [],
   "source": []
  }
 ],
 "metadata": {
  "kernelspec": {
   "display_name": "Python 3",
   "language": "python",
   "name": "python3"
  },
  "language_info": {
   "codemirror_mode": {
    "name": "ipython",
    "version": 3
   },
   "file_extension": ".py",
   "mimetype": "text/x-python",
   "name": "python",
   "nbconvert_exporter": "python",
   "pygments_lexer": "ipython3",
   "version": "3.7.3"
  }
 },
 "nbformat": 4,
 "nbformat_minor": 2
}
